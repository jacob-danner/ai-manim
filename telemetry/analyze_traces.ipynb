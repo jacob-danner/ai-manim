{
 "cells": [
  {
   "cell_type": "markdown",
   "metadata": {},
   "source": [
    "# Telemetry Trace Analysis\n",
    "\n",
    "Minimal notebook to connect to trace files and query with DuckDB."
   ]
  },
  {
   "cell_type": "code",
   "execution_count": null,
   "metadata": {},
   "outputs": [],
   "source": [
    "import duckdb\n",
    "from pathlib import Path"
   ]
  },
  {
   "cell_type": "code",
   "execution_count": null,
   "metadata": {},
   "outputs": [],
   "source": [
    "# Connect to DuckDB\n",
    "conn = duckdb.connect()\n",
    "\n",
    "# Load trace data (adjust path as needed)\n",
    "trace_file = \"test_traces.jsonl\"\n",
    "if Path(trace_file).exists():\n",
    "    conn.execute(f\"\"\"\n",
    "        CREATE TABLE traces AS \n",
    "        SELECT * FROM read_json_auto('{trace_file}')\n",
    "    \"\"\")\n",
    "    print(f\"✅ Loaded traces from {trace_file}\")\n",
    "else:\n",
    "    print(f\"❌ Trace file not found: {trace_file}\")"
   ]
  },
  {
   "cell_type": "code",
   "execution_count": null,
   "metadata": {},
   "outputs": [],
   "source": [
    "# Basic query - see all traces\n",
    "conn.execute(\"SELECT * FROM traces\").df()"
   ]
  }
 ],
 "metadata": {
  "kernelspec": {
   "display_name": "Python 3",
   "language": "python",
   "name": "python3"
  },
  "language_info": {
   "codemirror_mode": {
    "name": "ipython",
    "version": 3
   },
   "file_extension": ".py",
   "mimetype": "text/x-python",
   "name": "python",
   "nbconvert_exporter": "python",
   "pygments_lexer": "ipython3",
   "version": "3.12.0"
  }
 },
 "nbformat": 4,
 "nbformat_minor": 2
}